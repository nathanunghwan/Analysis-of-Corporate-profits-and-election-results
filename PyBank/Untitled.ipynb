{
 "cells": [
  {
   "cell_type": "code",
   "execution_count": 1,
   "id": "a43d5001",
   "metadata": {},
   "outputs": [],
   "source": [
    "import pandas as pd"
   ]
  },
  {
   "cell_type": "code",
   "execution_count": 2,
   "id": "1e9319ce",
   "metadata": {},
   "outputs": [],
   "source": [
    "path = \"Resources/budget_data.csv\""
   ]
  },
  {
   "cell_type": "code",
   "execution_count": 9,
   "id": "cd5ccc6b",
   "metadata": {},
   "outputs": [
    {
     "name": "stdout",
     "output_type": "stream",
     "text": [
      "['Date', 'Profit/Losses']\n"
     ]
    }
   ],
   "source": [
    "budget_data_df = pd.read_csv(path)\n",
    "budget_data_df.head()\n",
    "a= list(budget_data_df.columns)\n",
    "print(a)"
   ]
  },
  {
   "cell_type": "code",
   "execution_count": 69,
   "id": "4092e02d",
   "metadata": {},
   "outputs": [
    {
     "name": "stdout",
     "output_type": "stream",
     "text": [
      "86\n",
      "22564198\n"
     ]
    },
    {
     "data": {
      "text/html": [
       "<div>\n",
       "<style scoped>\n",
       "    .dataframe tbody tr th:only-of-type {\n",
       "        vertical-align: middle;\n",
       "    }\n",
       "\n",
       "    .dataframe tbody tr th {\n",
       "        vertical-align: top;\n",
       "    }\n",
       "\n",
       "    .dataframe thead th {\n",
       "        text-align: right;\n",
       "    }\n",
       "</style>\n",
       "<table border=\"1\" class=\"dataframe\">\n",
       "  <thead>\n",
       "    <tr style=\"text-align: right;\">\n",
       "      <th></th>\n",
       "      <th>Date</th>\n",
       "      <th>Profit/Losses</th>\n",
       "    </tr>\n",
       "  </thead>\n",
       "  <tbody>\n",
       "    <tr>\n",
       "      <th>79</th>\n",
       "      <td>Aug-16</td>\n",
       "      <td>951227</td>\n",
       "    </tr>\n",
       "  </tbody>\n",
       "</table>\n",
       "</div>"
      ],
      "text/plain": [
       "      Date  Profit/Losses\n",
       "79  Aug-16         951227"
      ]
     },
     "execution_count": 69,
     "metadata": {},
     "output_type": "execute_result"
    }
   ],
   "source": [
    "Total_Month=len(budget_data_df[\"Date\"])\n",
    "Net_Total = budget_data_df[\"Profit/Losses\"].sum()\n",
    "budget_data_df[\"Change\"] = (budget_data_df[\"Profit/Losses\"]-budget_data_df[\"Profit/Losses\"].shift())\n",
    "print(Total_Month)\n",
    "print(Net_Total)\n",
    "Average_Change=round(budget_data_df[\"Change\"].mean(),2)\n",
    "#budget_data_df.head()\n",
    "#Average_ChangeGreatest Increase in Profits: Aug-16 ($1862002)\n",
    "#Increase_Max = budget_data_df[\"Change\"].max()\n",
    "\n",
    "#Decrease_Max = budget_data_df[\"Change\"].min()\n",
    "Greatest_Increase =  budget_data_df.loc[budget_data_df[\"Change\"] == budget_data_df[\"Change\"].max(),[\"Date\",\"Profit/Losses\"]]  \n",
    "Greatest_Dncrease =  budget_data_df.loc[budget_data_df[\"Change\"] == budget_data_df[\"Change\"].min()]  \n",
    "Greatest_Increase"
   ]
  },
  {
   "cell_type": "code",
   "execution_count": null,
   "id": "ab868d60",
   "metadata": {},
   "outputs": [],
   "source": []
  }
 ],
 "metadata": {
  "kernelspec": {
   "display_name": "base",
   "language": "python",
   "name": "python3"
  },
  "language_info": {
   "codemirror_mode": {
    "name": "ipython",
    "version": 3
   },
   "file_extension": ".py",
   "mimetype": "text/x-python",
   "name": "python",
   "nbconvert_exporter": "python",
   "pygments_lexer": "ipython3",
   "version": "3.9.12 (main, Apr  4 2022, 05:22:27) [MSC v.1916 64 bit (AMD64)]"
  },
  "vscode": {
   "interpreter": {
    "hash": "486e5168cd57c0f81718f0941449cd9c5f4b40b1f6e9f9be3f252144471b5964"
   }
  }
 },
 "nbformat": 4,
 "nbformat_minor": 5
}
